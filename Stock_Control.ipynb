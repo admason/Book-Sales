
   "source": [
    "## Stock analysis:\n",
    "#  Enter total stock, back orders and quantity in transit\n",
    "# The output advises further action\n",
    "\n",
    "totalstock=10\n",
    "backorder=50\n",
    "transit=40\n",
    "\n",
    "netstock=totalstock-backorder\n",
    "net_plus_transit=totalstock-backorder+transit\n",
    "\n",
    "if netstock<=0 and net_plus_transit<=0:\n",
    "    print(f\" Net stock is {netstock}, with {transit} in transit, order at least {-1*net_plus_transit}\")\n",
    "elif net<=0 and nt>=0:\n",
    "    print(f\" Stock okay, there are {transit} copies due\")\n",
    "else:\n",
    "    print(f\" stock level= {netstock}, but {transit} on the way, do not order\")"
   ]
  },
  
